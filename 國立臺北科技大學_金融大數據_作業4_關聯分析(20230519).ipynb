{
  "nbformat": 4,
  "nbformat_minor": 0,
  "metadata": {
    "colab": {
      "provenance": [],
      "authorship_tag": "ABX9TyPgNO62Gpr1y1zBPyX5n4Xb",
      "include_colab_link": true
    },
    "kernelspec": {
      "name": "python3",
      "display_name": "Python 3"
    },
    "language_info": {
      "name": "python"
    }
  },
  "cells": [
    {
      "cell_type": "markdown",
      "metadata": {
        "id": "view-in-github",
        "colab_type": "text"
      },
      "source": [
        "<a href=\"https://colab.research.google.com/github/AcerPing/NTUT_FinancialBigData/blob/main/%E5%9C%8B%E7%AB%8B%E8%87%BA%E5%8C%97%E7%A7%91%E6%8A%80%E5%A4%A7%E5%AD%B8_%E9%87%91%E8%9E%8D%E5%A4%A7%E6%95%B8%E6%93%9A_%E4%BD%9C%E6%A5%AD4_%E9%97%9C%E8%81%AF%E5%88%86%E6%9E%90(20230519).ipynb\" target=\"_parent\"><img src=\"https://colab.research.google.com/assets/colab-badge.svg\" alt=\"Open In Colab\"/></a>"
      ]
    },
    {
      "cell_type": "code",
      "execution_count": 1,
      "metadata": {
        "id": "Sm8d2QI4bBeo"
      },
      "outputs": [],
      "source": [
        "import pandas as pd\n",
        "import numpy as np\n",
        "import string as st\n"
      ]
    },
    {
      "cell_type": "code",
      "source": [
        "# pd.set_option('display.max_columns',500)\n",
        "# pd.set_option('display.max_rows',200)\n",
        "df = pd.read_csv(\"gamestudy.csv\", encoding = 'ISO-8859-1')\n",
        "df"
      ],
      "metadata": {
        "colab": {
          "base_uri": "https://localhost:8080/",
          "height": 869
        },
        "id": "BBndK1qZdXjk",
        "outputId": "d4b5d519-64cb-4809-940c-46ac45fb1282"
      },
      "execution_count": 2,
      "outputs": [
        {
          "output_type": "execute_result",
          "data": {
            "text/plain": [
              "       S. No.    Timestamp  GAD1  GAD2  GAD3  GAD4  GAD5  GAD6  GAD7  \\\n",
              "0           1  42052.00437     0     0     0     0     1     0     0   \n",
              "1           2  42052.00680     1     2     2     2     0     1     0   \n",
              "2           3  42052.03860     0     2     2     0     0     3     1   \n",
              "3           4  42052.06804     0     0     0     0     0     0     0   \n",
              "4           5  42052.08948     2     1     2     2     2     3     2   \n",
              "...       ...          ...   ...   ...   ...   ...   ...   ...   ...   \n",
              "13459   14246  42057.75678     1     0     0     1     0     1     1   \n",
              "13460   14247  42057.81185     3     3     3     3     2     3     3   \n",
              "13461   14248  42058.16964     0     0     0     0     0     0     0   \n",
              "13462   14249  42058.24420     3     2     1     3     0     1     3   \n",
              "13463   14250  42058.36375     1     1     0     0     0     0     0   \n",
              "\n",
              "                       GADE  ...  Birthplace    Residence  Reference  \\\n",
              "0      Not difficult at all  ...         USA          USA     Reddit   \n",
              "1        Somewhat difficult  ...         USA          USA     Reddit   \n",
              "2      Not difficult at all  ...     Germany      Germany     Reddit   \n",
              "3      Not difficult at all  ...         USA          USA     Reddit   \n",
              "4            Very difficult  ...         USA  South Korea     Reddit   \n",
              "...                     ...  ...         ...          ...        ...   \n",
              "13459  Not difficult at all  ...      France       France     Reddit   \n",
              "13460   Extremely difficult  ...         USA          USA     Reddit   \n",
              "13461  Not difficult at all  ...      Norway       Norway     Reddit   \n",
              "13462    Somewhat difficult  ...      Canada       Canada     Reddit   \n",
              "13463    Somewhat difficult  ...      Canada       Canada     Reddit   \n",
              "\n",
              "                                               Playstyle  accept GAD_T SWL_T  \\\n",
              "0                                           Singleplayer  Accept     1    23   \n",
              "1                  Multiplayer - online - with strangers  Accept     8    16   \n",
              "2                                           Singleplayer  Accept     8    17   \n",
              "3      Multiplayer - online - with online acquaintanc...  Accept     0    17   \n",
              "4                  Multiplayer - online - with strangers  Accept    14    14   \n",
              "...                                                  ...     ...   ...   ...   \n",
              "13459              Multiplayer - online - with strangers  Accept     4    28   \n",
              "13460              Multiplayer - online - with strangers  Accept    20    23   \n",
              "13461      Multiplayer - online - with real life friends  Accept     0    32   \n",
              "13462                                       Singleplayer  Accept    13    16   \n",
              "13463              Multiplayer - online - with strangers  Accept     2    25   \n",
              "\n",
              "       SPIN_T Residence_ISO3 Birthplace_ISO3  \n",
              "0         5.0            USA             USA  \n",
              "1        33.0            USA             USA  \n",
              "2        31.0            DEU             DEU  \n",
              "3        11.0            USA             USA  \n",
              "4        13.0            KOR             USA  \n",
              "...       ...            ...             ...  \n",
              "13459     7.0            FRA             FRA  \n",
              "13460    25.0            USA             USA  \n",
              "13461    10.0            NOR             NOR  \n",
              "13462    32.0            CAN             CAN  \n",
              "13463    14.0            CAN             CAN  \n",
              "\n",
              "[13464 rows x 55 columns]"
            ],
            "text/html": [
              "\n",
              "  <div id=\"df-6bb298c7-3afc-4c5c-b302-2c9f808eef0a\">\n",
              "    <div class=\"colab-df-container\">\n",
              "      <div>\n",
              "<style scoped>\n",
              "    .dataframe tbody tr th:only-of-type {\n",
              "        vertical-align: middle;\n",
              "    }\n",
              "\n",
              "    .dataframe tbody tr th {\n",
              "        vertical-align: top;\n",
              "    }\n",
              "\n",
              "    .dataframe thead th {\n",
              "        text-align: right;\n",
              "    }\n",
              "</style>\n",
              "<table border=\"1\" class=\"dataframe\">\n",
              "  <thead>\n",
              "    <tr style=\"text-align: right;\">\n",
              "      <th></th>\n",
              "      <th>S. No.</th>\n",
              "      <th>Timestamp</th>\n",
              "      <th>GAD1</th>\n",
              "      <th>GAD2</th>\n",
              "      <th>GAD3</th>\n",
              "      <th>GAD4</th>\n",
              "      <th>GAD5</th>\n",
              "      <th>GAD6</th>\n",
              "      <th>GAD7</th>\n",
              "      <th>GADE</th>\n",
              "      <th>...</th>\n",
              "      <th>Birthplace</th>\n",
              "      <th>Residence</th>\n",
              "      <th>Reference</th>\n",
              "      <th>Playstyle</th>\n",
              "      <th>accept</th>\n",
              "      <th>GAD_T</th>\n",
              "      <th>SWL_T</th>\n",
              "      <th>SPIN_T</th>\n",
              "      <th>Residence_ISO3</th>\n",
              "      <th>Birthplace_ISO3</th>\n",
              "    </tr>\n",
              "  </thead>\n",
              "  <tbody>\n",
              "    <tr>\n",
              "      <th>0</th>\n",
              "      <td>1</td>\n",
              "      <td>42052.00437</td>\n",
              "      <td>0</td>\n",
              "      <td>0</td>\n",
              "      <td>0</td>\n",
              "      <td>0</td>\n",
              "      <td>1</td>\n",
              "      <td>0</td>\n",
              "      <td>0</td>\n",
              "      <td>Not difficult at all</td>\n",
              "      <td>...</td>\n",
              "      <td>USA</td>\n",
              "      <td>USA</td>\n",
              "      <td>Reddit</td>\n",
              "      <td>Singleplayer</td>\n",
              "      <td>Accept</td>\n",
              "      <td>1</td>\n",
              "      <td>23</td>\n",
              "      <td>5.0</td>\n",
              "      <td>USA</td>\n",
              "      <td>USA</td>\n",
              "    </tr>\n",
              "    <tr>\n",
              "      <th>1</th>\n",
              "      <td>2</td>\n",
              "      <td>42052.00680</td>\n",
              "      <td>1</td>\n",
              "      <td>2</td>\n",
              "      <td>2</td>\n",
              "      <td>2</td>\n",
              "      <td>0</td>\n",
              "      <td>1</td>\n",
              "      <td>0</td>\n",
              "      <td>Somewhat difficult</td>\n",
              "      <td>...</td>\n",
              "      <td>USA</td>\n",
              "      <td>USA</td>\n",
              "      <td>Reddit</td>\n",
              "      <td>Multiplayer - online - with strangers</td>\n",
              "      <td>Accept</td>\n",
              "      <td>8</td>\n",
              "      <td>16</td>\n",
              "      <td>33.0</td>\n",
              "      <td>USA</td>\n",
              "      <td>USA</td>\n",
              "    </tr>\n",
              "    <tr>\n",
              "      <th>2</th>\n",
              "      <td>3</td>\n",
              "      <td>42052.03860</td>\n",
              "      <td>0</td>\n",
              "      <td>2</td>\n",
              "      <td>2</td>\n",
              "      <td>0</td>\n",
              "      <td>0</td>\n",
              "      <td>3</td>\n",
              "      <td>1</td>\n",
              "      <td>Not difficult at all</td>\n",
              "      <td>...</td>\n",
              "      <td>Germany</td>\n",
              "      <td>Germany</td>\n",
              "      <td>Reddit</td>\n",
              "      <td>Singleplayer</td>\n",
              "      <td>Accept</td>\n",
              "      <td>8</td>\n",
              "      <td>17</td>\n",
              "      <td>31.0</td>\n",
              "      <td>DEU</td>\n",
              "      <td>DEU</td>\n",
              "    </tr>\n",
              "    <tr>\n",
              "      <th>3</th>\n",
              "      <td>4</td>\n",
              "      <td>42052.06804</td>\n",
              "      <td>0</td>\n",
              "      <td>0</td>\n",
              "      <td>0</td>\n",
              "      <td>0</td>\n",
              "      <td>0</td>\n",
              "      <td>0</td>\n",
              "      <td>0</td>\n",
              "      <td>Not difficult at all</td>\n",
              "      <td>...</td>\n",
              "      <td>USA</td>\n",
              "      <td>USA</td>\n",
              "      <td>Reddit</td>\n",
              "      <td>Multiplayer - online - with online acquaintanc...</td>\n",
              "      <td>Accept</td>\n",
              "      <td>0</td>\n",
              "      <td>17</td>\n",
              "      <td>11.0</td>\n",
              "      <td>USA</td>\n",
              "      <td>USA</td>\n",
              "    </tr>\n",
              "    <tr>\n",
              "      <th>4</th>\n",
              "      <td>5</td>\n",
              "      <td>42052.08948</td>\n",
              "      <td>2</td>\n",
              "      <td>1</td>\n",
              "      <td>2</td>\n",
              "      <td>2</td>\n",
              "      <td>2</td>\n",
              "      <td>3</td>\n",
              "      <td>2</td>\n",
              "      <td>Very difficult</td>\n",
              "      <td>...</td>\n",
              "      <td>USA</td>\n",
              "      <td>South Korea</td>\n",
              "      <td>Reddit</td>\n",
              "      <td>Multiplayer - online - with strangers</td>\n",
              "      <td>Accept</td>\n",
              "      <td>14</td>\n",
              "      <td>14</td>\n",
              "      <td>13.0</td>\n",
              "      <td>KOR</td>\n",
              "      <td>USA</td>\n",
              "    </tr>\n",
              "    <tr>\n",
              "      <th>...</th>\n",
              "      <td>...</td>\n",
              "      <td>...</td>\n",
              "      <td>...</td>\n",
              "      <td>...</td>\n",
              "      <td>...</td>\n",
              "      <td>...</td>\n",
              "      <td>...</td>\n",
              "      <td>...</td>\n",
              "      <td>...</td>\n",
              "      <td>...</td>\n",
              "      <td>...</td>\n",
              "      <td>...</td>\n",
              "      <td>...</td>\n",
              "      <td>...</td>\n",
              "      <td>...</td>\n",
              "      <td>...</td>\n",
              "      <td>...</td>\n",
              "      <td>...</td>\n",
              "      <td>...</td>\n",
              "      <td>...</td>\n",
              "      <td>...</td>\n",
              "    </tr>\n",
              "    <tr>\n",
              "      <th>13459</th>\n",
              "      <td>14246</td>\n",
              "      <td>42057.75678</td>\n",
              "      <td>1</td>\n",
              "      <td>0</td>\n",
              "      <td>0</td>\n",
              "      <td>1</td>\n",
              "      <td>0</td>\n",
              "      <td>1</td>\n",
              "      <td>1</td>\n",
              "      <td>Not difficult at all</td>\n",
              "      <td>...</td>\n",
              "      <td>France</td>\n",
              "      <td>France</td>\n",
              "      <td>Reddit</td>\n",
              "      <td>Multiplayer - online - with strangers</td>\n",
              "      <td>Accept</td>\n",
              "      <td>4</td>\n",
              "      <td>28</td>\n",
              "      <td>7.0</td>\n",
              "      <td>FRA</td>\n",
              "      <td>FRA</td>\n",
              "    </tr>\n",
              "    <tr>\n",
              "      <th>13460</th>\n",
              "      <td>14247</td>\n",
              "      <td>42057.81185</td>\n",
              "      <td>3</td>\n",
              "      <td>3</td>\n",
              "      <td>3</td>\n",
              "      <td>3</td>\n",
              "      <td>2</td>\n",
              "      <td>3</td>\n",
              "      <td>3</td>\n",
              "      <td>Extremely difficult</td>\n",
              "      <td>...</td>\n",
              "      <td>USA</td>\n",
              "      <td>USA</td>\n",
              "      <td>Reddit</td>\n",
              "      <td>Multiplayer - online - with strangers</td>\n",
              "      <td>Accept</td>\n",
              "      <td>20</td>\n",
              "      <td>23</td>\n",
              "      <td>25.0</td>\n",
              "      <td>USA</td>\n",
              "      <td>USA</td>\n",
              "    </tr>\n",
              "    <tr>\n",
              "      <th>13461</th>\n",
              "      <td>14248</td>\n",
              "      <td>42058.16964</td>\n",
              "      <td>0</td>\n",
              "      <td>0</td>\n",
              "      <td>0</td>\n",
              "      <td>0</td>\n",
              "      <td>0</td>\n",
              "      <td>0</td>\n",
              "      <td>0</td>\n",
              "      <td>Not difficult at all</td>\n",
              "      <td>...</td>\n",
              "      <td>Norway</td>\n",
              "      <td>Norway</td>\n",
              "      <td>Reddit</td>\n",
              "      <td>Multiplayer - online - with real life friends</td>\n",
              "      <td>Accept</td>\n",
              "      <td>0</td>\n",
              "      <td>32</td>\n",
              "      <td>10.0</td>\n",
              "      <td>NOR</td>\n",
              "      <td>NOR</td>\n",
              "    </tr>\n",
              "    <tr>\n",
              "      <th>13462</th>\n",
              "      <td>14249</td>\n",
              "      <td>42058.24420</td>\n",
              "      <td>3</td>\n",
              "      <td>2</td>\n",
              "      <td>1</td>\n",
              "      <td>3</td>\n",
              "      <td>0</td>\n",
              "      <td>1</td>\n",
              "      <td>3</td>\n",
              "      <td>Somewhat difficult</td>\n",
              "      <td>...</td>\n",
              "      <td>Canada</td>\n",
              "      <td>Canada</td>\n",
              "      <td>Reddit</td>\n",
              "      <td>Singleplayer</td>\n",
              "      <td>Accept</td>\n",
              "      <td>13</td>\n",
              "      <td>16</td>\n",
              "      <td>32.0</td>\n",
              "      <td>CAN</td>\n",
              "      <td>CAN</td>\n",
              "    </tr>\n",
              "    <tr>\n",
              "      <th>13463</th>\n",
              "      <td>14250</td>\n",
              "      <td>42058.36375</td>\n",
              "      <td>1</td>\n",
              "      <td>1</td>\n",
              "      <td>0</td>\n",
              "      <td>0</td>\n",
              "      <td>0</td>\n",
              "      <td>0</td>\n",
              "      <td>0</td>\n",
              "      <td>Somewhat difficult</td>\n",
              "      <td>...</td>\n",
              "      <td>Canada</td>\n",
              "      <td>Canada</td>\n",
              "      <td>Reddit</td>\n",
              "      <td>Multiplayer - online - with strangers</td>\n",
              "      <td>Accept</td>\n",
              "      <td>2</td>\n",
              "      <td>25</td>\n",
              "      <td>14.0</td>\n",
              "      <td>CAN</td>\n",
              "      <td>CAN</td>\n",
              "    </tr>\n",
              "  </tbody>\n",
              "</table>\n",
              "<p>13464 rows × 55 columns</p>\n",
              "</div>\n",
              "      <button class=\"colab-df-convert\" onclick=\"convertToInteractive('df-6bb298c7-3afc-4c5c-b302-2c9f808eef0a')\"\n",
              "              title=\"Convert this dataframe to an interactive table.\"\n",
              "              style=\"display:none;\">\n",
              "        \n",
              "  <svg xmlns=\"http://www.w3.org/2000/svg\" height=\"24px\"viewBox=\"0 0 24 24\"\n",
              "       width=\"24px\">\n",
              "    <path d=\"M0 0h24v24H0V0z\" fill=\"none\"/>\n",
              "    <path d=\"M18.56 5.44l.94 2.06.94-2.06 2.06-.94-2.06-.94-.94-2.06-.94 2.06-2.06.94zm-11 1L8.5 8.5l.94-2.06 2.06-.94-2.06-.94L8.5 2.5l-.94 2.06-2.06.94zm10 10l.94 2.06.94-2.06 2.06-.94-2.06-.94-.94-2.06-.94 2.06-2.06.94z\"/><path d=\"M17.41 7.96l-1.37-1.37c-.4-.4-.92-.59-1.43-.59-.52 0-1.04.2-1.43.59L10.3 9.45l-7.72 7.72c-.78.78-.78 2.05 0 2.83L4 21.41c.39.39.9.59 1.41.59.51 0 1.02-.2 1.41-.59l7.78-7.78 2.81-2.81c.8-.78.8-2.07 0-2.86zM5.41 20L4 18.59l7.72-7.72 1.47 1.35L5.41 20z\"/>\n",
              "  </svg>\n",
              "      </button>\n",
              "      \n",
              "  <style>\n",
              "    .colab-df-container {\n",
              "      display:flex;\n",
              "      flex-wrap:wrap;\n",
              "      gap: 12px;\n",
              "    }\n",
              "\n",
              "    .colab-df-convert {\n",
              "      background-color: #E8F0FE;\n",
              "      border: none;\n",
              "      border-radius: 50%;\n",
              "      cursor: pointer;\n",
              "      display: none;\n",
              "      fill: #1967D2;\n",
              "      height: 32px;\n",
              "      padding: 0 0 0 0;\n",
              "      width: 32px;\n",
              "    }\n",
              "\n",
              "    .colab-df-convert:hover {\n",
              "      background-color: #E2EBFA;\n",
              "      box-shadow: 0px 1px 2px rgba(60, 64, 67, 0.3), 0px 1px 3px 1px rgba(60, 64, 67, 0.15);\n",
              "      fill: #174EA6;\n",
              "    }\n",
              "\n",
              "    [theme=dark] .colab-df-convert {\n",
              "      background-color: #3B4455;\n",
              "      fill: #D2E3FC;\n",
              "    }\n",
              "\n",
              "    [theme=dark] .colab-df-convert:hover {\n",
              "      background-color: #434B5C;\n",
              "      box-shadow: 0px 1px 3px 1px rgba(0, 0, 0, 0.15);\n",
              "      filter: drop-shadow(0px 1px 2px rgba(0, 0, 0, 0.3));\n",
              "      fill: #FFFFFF;\n",
              "    }\n",
              "  </style>\n",
              "\n",
              "      <script>\n",
              "        const buttonEl =\n",
              "          document.querySelector('#df-6bb298c7-3afc-4c5c-b302-2c9f808eef0a button.colab-df-convert');\n",
              "        buttonEl.style.display =\n",
              "          google.colab.kernel.accessAllowed ? 'block' : 'none';\n",
              "\n",
              "        async function convertToInteractive(key) {\n",
              "          const element = document.querySelector('#df-6bb298c7-3afc-4c5c-b302-2c9f808eef0a');\n",
              "          const dataTable =\n",
              "            await google.colab.kernel.invokeFunction('convertToInteractive',\n",
              "                                                     [key], {});\n",
              "          if (!dataTable) return;\n",
              "\n",
              "          const docLinkHtml = 'Like what you see? Visit the ' +\n",
              "            '<a target=\"_blank\" href=https://colab.research.google.com/notebooks/data_table.ipynb>data table notebook</a>'\n",
              "            + ' to learn more about interactive tables.';\n",
              "          element.innerHTML = '';\n",
              "          dataTable['output_type'] = 'display_data';\n",
              "          await google.colab.output.renderOutput(dataTable, element);\n",
              "          const docLink = document.createElement('div');\n",
              "          docLink.innerHTML = docLinkHtml;\n",
              "          element.appendChild(docLink);\n",
              "        }\n",
              "      </script>\n",
              "    </div>\n",
              "  </div>\n",
              "  "
            ]
          },
          "metadata": {},
          "execution_count": 2
        }
      ]
    },
    {
      "cell_type": "code",
      "source": [
        "df.drop(['S. No.' , 'Timestamp'] , axis = 1 , inplace = True)"
      ],
      "metadata": {
        "id": "9N3kDik3daEn"
      },
      "execution_count": 3,
      "outputs": []
    },
    {
      "cell_type": "code",
      "source": [
        "df.isnull().sum()"
      ],
      "metadata": {
        "colab": {
          "base_uri": "https://localhost:8080/"
        },
        "id": "VmV0WN22eEQ4",
        "outputId": "d9061fdb-c30a-425c-8485-a39470a151d8"
      },
      "execution_count": 4,
      "outputs": [
        {
          "output_type": "execute_result",
          "data": {
            "text/plain": [
              "GAD1                   0\n",
              "GAD2                   0\n",
              "GAD3                   0\n",
              "GAD4                   0\n",
              "GAD5                   0\n",
              "GAD6                   0\n",
              "GAD7                   0\n",
              "GADE                 649\n",
              "SWL1                   0\n",
              "SWL2                   0\n",
              "SWL3                   0\n",
              "SWL4                   0\n",
              "SWL5                   0\n",
              "Game                   0\n",
              "Platform               0\n",
              "Hours                 30\n",
              "earnings               0\n",
              "whyplay                0\n",
              "League              1838\n",
              "highestleague      13464\n",
              "streams              100\n",
              "SPIN1                124\n",
              "SPIN2                154\n",
              "SPIN3                140\n",
              "SPIN4                159\n",
              "SPIN5                166\n",
              "SPIN6                156\n",
              "SPIN7                138\n",
              "SPIN8                144\n",
              "SPIN9                158\n",
              "SPIN10               160\n",
              "SPIN11               187\n",
              "SPIN12               168\n",
              "SPIN13               187\n",
              "SPIN14               156\n",
              "SPIN15               147\n",
              "SPIN16               147\n",
              "SPIN17               175\n",
              "Narcissism            23\n",
              "Gender                 0\n",
              "Age                    0\n",
              "Work                  38\n",
              "Degree                 0\n",
              "Birthplace             0\n",
              "Residence              0\n",
              "Reference             15\n",
              "Playstyle              0\n",
              "accept               414\n",
              "GAD_T                  0\n",
              "SWL_T                  0\n",
              "SPIN_T               650\n",
              "Residence_ISO3       110\n",
              "Birthplace_ISO3      121\n",
              "dtype: int64"
            ]
          },
          "metadata": {},
          "execution_count": 4
        }
      ]
    },
    {
      "cell_type": "code",
      "source": [
        "df.shape"
      ],
      "metadata": {
        "colab": {
          "base_uri": "https://localhost:8080/"
        },
        "id": "g37AdHvdeKbl",
        "outputId": "8d73538d-ed86-469a-e2cd-72a86b4cc472"
      },
      "execution_count": 5,
      "outputs": [
        {
          "output_type": "execute_result",
          "data": {
            "text/plain": [
              "(13464, 53)"
            ]
          },
          "metadata": {},
          "execution_count": 5
        }
      ]
    },
    {
      "cell_type": "code",
      "source": [
        "df['Hours_streams'] = df['Hours'] + df['streams']\n",
        "df['Hours_streams']"
      ],
      "metadata": {
        "colab": {
          "base_uri": "https://localhost:8080/"
        },
        "id": "onJU9AaneVn8",
        "outputId": "9556abb7-bc79-4e01-8e19-35aa3f5a70d9"
      },
      "execution_count": 6,
      "outputs": [
        {
          "output_type": "execute_result",
          "data": {
            "text/plain": [
              "0        15.0\n",
              "1        10.0\n",
              "2         0.0\n",
              "3        25.0\n",
              "4        21.0\n",
              "         ... \n",
              "13459    50.0\n",
              "13460    40.0\n",
              "13461    34.0\n",
              "13462     5.0\n",
              "13463    23.0\n",
              "Name: Hours_streams, Length: 13464, dtype: float64"
            ]
          },
          "metadata": {},
          "execution_count": 6
        }
      ]
    },
    {
      "cell_type": "code",
      "source": [
        "df[df['Hours_streams'] > 115].index"
      ],
      "metadata": {
        "colab": {
          "base_uri": "https://localhost:8080/"
        },
        "id": "SDMM9XmGeZpm",
        "outputId": "08429cbf-7457-497e-8858-1c55005f464e"
      },
      "execution_count": 7,
      "outputs": [
        {
          "output_type": "execute_result",
          "data": {
            "text/plain": [
              "Int64Index([  611,   791,  1152,  1216,  1947,  2931,  3112,  3482,  3860,\n",
              "             3990,  4024,  4069,  4363,  4416,  4804,  5430,  5641,  6171,\n",
              "             6669,  6819,  7615,  7812,  8228,  8418,  8482,  8776,  8801,\n",
              "             8961,  9070,  9094,  9435,  9463,  9514,  9723,  9793,  9856,\n",
              "             9966, 10945, 10997, 11192, 11528, 11863, 12013, 12270, 12301,\n",
              "            12395, 13223, 13279, 13345],\n",
              "           dtype='int64')"
            ]
          },
          "metadata": {},
          "execution_count": 7
        }
      ]
    },
    {
      "cell_type": "code",
      "source": [
        "df[df['Hours_streams']==0].index"
      ],
      "metadata": {
        "colab": {
          "base_uri": "https://localhost:8080/"
        },
        "id": "wqXKRBAAfJgR",
        "outputId": "6d4e9ee5-4e35-4d02-ff46-1443b2d99c59"
      },
      "execution_count": 8,
      "outputs": [
        {
          "output_type": "execute_result",
          "data": {
            "text/plain": [
              "Int64Index([2, 54, 58, 12779], dtype='int64')"
            ]
          },
          "metadata": {},
          "execution_count": 8
        }
      ]
    },
    {
      "cell_type": "code",
      "source": [
        "(df[df['Hours_streams'] > 115].index) | (df[df['Hours_streams']==0].index)"
      ],
      "metadata": {
        "colab": {
          "base_uri": "https://localhost:8080/"
        },
        "id": "YCB1BsOJfZE9",
        "outputId": "4f5baf25-c69f-4398-d355-e711a1c33d6c"
      },
      "execution_count": 9,
      "outputs": [
        {
          "output_type": "stream",
          "name": "stderr",
          "text": [
            "<ipython-input-9-95bd3b793440>:1: FutureWarning: Index.__or__ operating as a set operation is deprecated, in the future this will be a logical operation matching Series.__or__.  Use index.union(other) instead.\n",
            "  (df[df['Hours_streams'] > 115].index) | (df[df['Hours_streams']==0].index)\n"
          ]
        },
        {
          "output_type": "execute_result",
          "data": {
            "text/plain": [
              "Int64Index([    2,    54,    58,   611,   791,  1152,  1216,  1947,  2931,\n",
              "             3112,  3482,  3860,  3990,  4024,  4069,  4363,  4416,  4804,\n",
              "             5430,  5641,  6171,  6669,  6819,  7615,  7812,  8228,  8418,\n",
              "             8482,  8776,  8801,  8961,  9070,  9094,  9435,  9463,  9514,\n",
              "             9723,  9793,  9856,  9966, 10945, 10997, 11192, 11528, 11863,\n",
              "            12013, 12270, 12301, 12395, 12779, 13223, 13279, 13345],\n",
              "           dtype='int64')"
            ]
          },
          "metadata": {},
          "execution_count": 9
        }
      ]
    },
    {
      "cell_type": "code",
      "source": [
        "df.drop(  ((df[df['Hours_streams'] > 115].index) | (df[df['Hours_streams']==0].index)),axis=0,inplace=True)"
      ],
      "metadata": {
        "id": "kyNNH9SIfn2h",
        "colab": {
          "base_uri": "https://localhost:8080/"
        },
        "outputId": "a71c2111-6a2d-46f3-c395-fa34c034a338"
      },
      "execution_count": 10,
      "outputs": [
        {
          "output_type": "stream",
          "name": "stderr",
          "text": [
            "<ipython-input-10-2fea3e477c72>:1: FutureWarning: Index.__or__ operating as a set operation is deprecated, in the future this will be a logical operation matching Series.__or__.  Use index.union(other) instead.\n",
            "  df.drop(  ((df[df['Hours_streams'] > 115].index) | (df[df['Hours_streams']==0].index)),axis=0,inplace=True)\n"
          ]
        }
      ]
    },
    {
      "cell_type": "code",
      "source": [
        "# df['Hours_streams'].value_counts()"
      ],
      "metadata": {
        "id": "ibbnKbZjf8gP"
      },
      "execution_count": 11,
      "outputs": []
    },
    {
      "cell_type": "code",
      "source": [
        "df.GADE.value_counts()"
      ],
      "metadata": {
        "colab": {
          "base_uri": "https://localhost:8080/"
        },
        "id": "jtQZSLuS2Byq",
        "outputId": "2f277481-2b21-4573-be9e-6cfa234845c0"
      },
      "execution_count": 12,
      "outputs": [
        {
          "output_type": "execute_result",
          "data": {
            "text/plain": [
              "Not difficult at all    6218\n",
              "Somewhat difficult      5132\n",
              "Very difficult          1004\n",
              "Extremely difficult      409\n",
              "Name: GADE, dtype: int64"
            ]
          },
          "metadata": {},
          "execution_count": 12
        }
      ]
    },
    {
      "cell_type": "code",
      "source": [
        "df.GADE.fillna(df.GADE.value_counts().index[1] , inplace=True) #1"
      ],
      "metadata": {
        "id": "DgYn8rBq33MP"
      },
      "execution_count": 13,
      "outputs": []
    },
    {
      "cell_type": "code",
      "source": [
        "df.streams.fillna(int(df.streams.mean()) , inplace = True)"
      ],
      "metadata": {
        "id": "griMw2lf36RN"
      },
      "execution_count": 14,
      "outputs": []
    },
    {
      "cell_type": "code",
      "source": [
        "df.Hours.fillna(int(df.Hours.mean()) , inplace = True)"
      ],
      "metadata": {
        "id": "dZmYT_vI6IYW"
      },
      "execution_count": 15,
      "outputs": []
    },
    {
      "cell_type": "code",
      "source": [
        "df.drop('Hours_streams' , axis = 1 , inplace = True)"
      ],
      "metadata": {
        "id": "YeF7eeeQ38qm"
      },
      "execution_count": 16,
      "outputs": []
    },
    {
      "cell_type": "code",
      "source": [
        "df.League = df.League.str.lower().str.strip()\n",
        "print(df.League.nunique())"
      ],
      "metadata": {
        "colab": {
          "base_uri": "https://localhost:8080/"
        },
        "id": "QqquD1kC6DVz",
        "outputId": "1e42f8fd-4791-4bf6-f002-5f2556f99269"
      },
      "execution_count": 17,
      "outputs": [
        {
          "output_type": "stream",
          "name": "stdout",
          "text": [
            "1199\n"
          ]
        }
      ]
    },
    {
      "cell_type": "code",
      "source": [
        "df[\"League\"] =df[\"League\"].str.extract(r'^([a-z]+)')"
      ],
      "metadata": {
        "id": "hswoteMA6yWD"
      },
      "execution_count": 18,
      "outputs": []
    },
    {
      "cell_type": "code",
      "source": [
        "df.League.unique()"
      ],
      "metadata": {
        "colab": {
          "base_uri": "https://localhost:8080/"
        },
        "id": "s4ObA_c57xP8",
        "outputId": "386961e4-a89e-4fa9-acd7-8c328c8bddee"
      },
      "execution_count": 19,
      "outputs": [
        {
          "output_type": "execute_result",
          "data": {
            "text/plain": [
              "array([nan, 'gold', 'none', 'na', 'diamond', 'not', 'bronze', 'silver',\n",
              "       'n', 'unranked', 'bad', 'legendary', 'global', 'potato', 'master',\n",
              "       'silverii', 'platinum', 'masters', 'challenger', 'lvl', 'platin',\n",
              "       'promos', 'top', 'd', 'plat', 'i', 'rank', 'grandmaster',\n",
              "       'platnium', 's', 'haven', 'platinium', 'in', 'gv', 'provisional',\n",
              "       'placements', 'g', 'was', 'the', 'division', 'pplatinum', 'hr',\n",
              "       'only', 'platium', 'legend', 'platine', 'plarinum', 'dmg',\n",
              "       'sliver', 'dont', 'high', 'very', 'starcraft', 'challenjour',\n",
              "       'fusion', 'low', 'unraked', 'havent', 'got', 'golden', 'cs', 'p',\n",
              "       'standard', 'still', 'highest', 'nope', 'dia', 'league', 'nova',\n",
              "       'mge', 'silber', 'siver', 'never', 'b', 'platinun', 'mg',\n",
              "       'supreme', 'for', 'greater', 'wood', 'le', 'no', 'natural', 'aram',\n",
              "       'don', 'currently', 'noone', 'grand', 'hs', 'current', 'last',\n",
              "       'first', 'recently', 'fucking', 'grandmasters', 'golf', 'of',\n",
              "       'glod', 'tier', 'soloq', 'unrranked', 'esl', 'golld', 'double',\n",
              "       'used', 'new', 'lem', 'csgo', 'c', 'platonum', 'eu', 'bronce',\n",
              "       'sil', 'finished', 'what', 'zilean', 'unrank', 'cardboard',\n",
              "       'goled', 'ranked', 'heroic', 'torment', 'lowest', 'lol', 'plata',\n",
              "       'almost', 'platnum', 'season', 'diaomnd', 'german', 'placed', 'un',\n",
              "       'mid', 'uwot', 'spanish', 'around', 'sc', 'germany', 'conqueror',\n",
              "       'charrenjour', 'unrankt', 'im', 'plantinum', 'placement', 'close',\n",
              "       'diamont', 'platinuim', 'hearthstone', 'finishing', 'non', 'coals',\n",
              "       'qualifiying', 'god', 'distinguished', 'doing', 'seaon', 'pre',\n",
              "       'unable', 'legdendary', 'ended', 'unfranked', 'were', 'promotion',\n",
              "       'seeding', 'idk', 'probably', 'ex', 'smfc', 'unplaced',\n",
              "       'gladiator', 'peaked', 'will', 'climbing', 'gm', 'angolan',\n",
              "       'challeneger', 'golderino', 'didnt', 'platinumm', 'provisionals',\n",
              "       'atm', 'unrakned', 'x', 'yes', 'under', 'range', 'formerly',\n",
              "       'having', 'silveriv', 'sem', 'elohell', 'promotions', 'unseeded',\n",
              "       'ugc', 'giii', 'if', 'level', 'lissandra', 'north', 'guardian',\n",
              "       'broze', 'diamomd', 'just', 'platv', 'unfinished', 'euw',\n",
              "       'platina', 'ahgl'], dtype=object)"
            ]
          },
          "metadata": {},
          "execution_count": 19
        }
      ]
    },
    {
      "cell_type": "code",
      "source": [
        "df.loc[(df['whyplay']== 'having fun') ,'League'] = df.loc[(df['whyplay']== 'having fun') ,'League'].fillna('unranked')\n",
        "df.League.fillna('gold' , inplace = True)"
      ],
      "metadata": {
        "id": "dMTzkfUi73jm"
      },
      "execution_count": 20,
      "outputs": []
    },
    {
      "cell_type": "code",
      "source": [
        "golds = ['g', 'gv', 'golden' ,'glod' ,'golld' ,'golf', 'goled', 'golderino' ,'giii']\n",
        "df['League'] = df.League.replace(golds , 'gold')"
      ],
      "metadata": {
        "id": "jAeHZJJD87-7"
      },
      "execution_count": 21,
      "outputs": []
    },
    {
      "cell_type": "code",
      "source": [
        "silvers = [ 'silverii' , 's' , 'sliver' , 'siver' , 'silber' , 'sil' , 'silveriv']\n",
        "df['League'] = df.League.replace(silvers , 'silver')"
      ],
      "metadata": {
        "id": "M3aGAk_Q8_h6"
      },
      "execution_count": 22,
      "outputs": []
    },
    {
      "cell_type": "code",
      "source": [
        "plats = [\n",
        "    'platinium' , 'platnium' , 'platin' ,'pplatinum' ,'plarinum' ,'platium', 'p' ,'platine' ,\n",
        "    'platinun' ,'platonum' ,'platnum', 'plata' ,'plantinum',\n",
        "    'platinuim' ,'platunum', 'plantinum' ,'platunum' ,'platinumm' ,'platv' ,'platina' , 'plat' \n",
        "]\n",
        "df['League'] = df.League.replace(plats , 'platinum')"
      ],
      "metadata": {
        "id": "4VfYRkpJONan"
      },
      "execution_count": 23,
      "outputs": []
    },
    {
      "cell_type": "code",
      "source": [
        "bronzers = ['bronce' , 'b' , 'broze' ,'lowest' , 'wood', 'elohell'] \n",
        "df['League'] = df.League.replace(bronzers , 'bronze')"
      ],
      "metadata": {
        "id": "7JGsaUhkOQEB"
      },
      "execution_count": 24,
      "outputs": []
    },
    {
      "cell_type": "code",
      "source": [
        "unranked = ['none' ,'na', 'not' ,'n' ,'promos' ,'provisional' ,'placements' , 'dont' , 'was', 'unraked',\n",
        "            'havent', 'never', 'nope', 'no', 'noone', 'don', 'of', 'unrranked', 'new', 'what', 'unrank' ,\n",
        "            'ranked', 'placement', 'unrankt' , 'non', 'unfranked' , 'promotion', 'idk',\n",
        "            'unplaced', 'probably', 'provisionals', 'didnt' ,'unrakned' , 'unfinished' , 'just' , 'x' ,\n",
        "            'promotions' , 'unseeded' , 'haven']\n",
        "df['League'] = df.League.replace(unranked , 'unranked')"
      ],
      "metadata": {
        "id": "tBFfL2QeOTCq"
      },
      "execution_count": 25,
      "outputs": []
    },
    {
      "cell_type": "code",
      "source": [
        "diamonds =  ['d', 'dia', 'diaomnd', 'diamont','diamomd']\n",
        "df['League'] = df.League.replace(diamonds , 'diamond')"
      ],
      "metadata": {
        "id": "PNVB2EY7OWnM"
      },
      "execution_count": 26,
      "outputs": []
    },
    {
      "cell_type": "code",
      "source": [
        "gm =  ['grand', 'gm', 'grandmasters']\n",
        "df['League'] = df.League.replace(gm , 'grandmaster')"
      ],
      "metadata": {
        "id": "JJCEEXfROaEz"
      },
      "execution_count": 27,
      "outputs": []
    },
    {
      "cell_type": "code",
      "source": [
        "chall =  ['challenjour', 'c', 'charrenjour', 'challeneger']\n",
        "df['League'] = df.League.replace(chall , 'challenger')"
      ],
      "metadata": {
        "id": "uuCrHGaNOch0"
      },
      "execution_count": 28,
      "outputs": []
    },
    {
      "cell_type": "code",
      "source": [
        "df['League'] = df.League.replace('mg' , 'mge')\n",
        "df['League'] = df.League.replace('masters' , 'master')\n",
        "df['League'] = df.League.replace( ['le', 'legdendary'] , 'legendary')"
      ],
      "metadata": {
        "id": "po-dXmHsOe9u"
      },
      "execution_count": 29,
      "outputs": []
    },
    {
      "cell_type": "code",
      "source": [
        "counts = df['League'].value_counts()\n",
        "df['League'] = df['League'][~df['League'].isin(counts[counts < 3].index)]"
      ],
      "metadata": {
        "id": "ZcfjeKRnOiRq"
      },
      "execution_count": 30,
      "outputs": []
    },
    {
      "cell_type": "code",
      "source": [
        "df['League'] = df.League.replace(['i' , 'currently' , 'high' , 'season' , 'lol','cs' ,\n",
        "                                  'last' ,'csgo','starcraft' ,'geater' , 'in', 'rank' , 'still'] , np.nan)"
      ],
      "metadata": {
        "id": "eiGk5ASTO1JM"
      },
      "execution_count": 31,
      "outputs": []
    },
    {
      "cell_type": "code",
      "source": [
        "df.League.fillna('unspecified' , inplace=True)"
      ],
      "metadata": {
        "id": "OJpaYr98O4Cu"
      },
      "execution_count": 32,
      "outputs": []
    },
    {
      "cell_type": "code",
      "source": [
        "df.League.value_counts()"
      ],
      "metadata": {
        "colab": {
          "base_uri": "https://localhost:8080/"
        },
        "id": "nHYKkTNbd8fL",
        "outputId": "236d70f7-97a6-4b30-ef0a-396c0f52f155"
      },
      "execution_count": 33,
      "outputs": [
        {
          "output_type": "execute_result",
          "data": {
            "text/plain": [
              "gold           4074\n",
              "platinum       2640\n",
              "silver         2278\n",
              "unranked       1714\n",
              "diamond        1628\n",
              "bronze          552\n",
              "unspecified     207\n",
              "master          163\n",
              "challenger       76\n",
              "grandmaster      17\n",
              "dmg              11\n",
              "legendary         8\n",
              "mge               8\n",
              "league            7\n",
              "top               6\n",
              "legend            6\n",
              "nova              5\n",
              "supreme           4\n",
              "greater           4\n",
              "lem               3\n",
              "Name: League, dtype: int64"
            ]
          },
          "metadata": {},
          "execution_count": 33
        }
      ]
    },
    {
      "cell_type": "code",
      "source": [
        "df.drop([\"Birthplace\",\"Birthplace_ISO3\"],axis=1,inplace=True)"
      ],
      "metadata": {
        "id": "LuRc0ydwO7XQ"
      },
      "execution_count": 34,
      "outputs": []
    },
    {
      "cell_type": "code",
      "source": [
        "df['Residence'] = df['Residence'].replace('Unknown',df['Residence'].mode()[0])"
      ],
      "metadata": {
        "id": "Q7H-Vz47Pko-"
      },
      "execution_count": 35,
      "outputs": []
    },
    {
      "cell_type": "code",
      "source": [
        "df['Reference'].fillna('Other',inplace=True)"
      ],
      "metadata": {
        "id": "36Ko3unzPu6N"
      },
      "execution_count": 36,
      "outputs": []
    },
    {
      "cell_type": "code",
      "source": [
        "df.drop(df[df['accept'].isnull()].index , axis=0 , inplace=True)"
      ],
      "metadata": {
        "id": "ROZKvTmgQNhC"
      },
      "execution_count": 37,
      "outputs": []
    },
    {
      "cell_type": "code",
      "source": [
        "df['Residence_ISO3'].fillna('USA',inplace=True) #11063"
      ],
      "metadata": {
        "id": "lYUvLbJJQTvd"
      },
      "execution_count": 38,
      "outputs": []
    },
    {
      "cell_type": "code",
      "source": [
        "df.loc[11063,'Residence_ISO3'] = 'XXK'"
      ],
      "metadata": {
        "id": "Fx5F6M5wQWcX"
      },
      "execution_count": 39,
      "outputs": []
    },
    {
      "cell_type": "code",
      "source": [
        "col = ['SPIN1','SPIN2','SPIN3','SPIN4','SPIN5','SPIN6','SPIN7','SPIN8','SPIN9',\n",
        "     'SPIN10','SPIN11','SPIN12','SPIN13','SPIN14','SPIN15','SPIN16','SPIN17' ,'SPIN_T']\n",
        "for i in col :\n",
        "    df[i].fillna(df[i].mode()[0], inplace = True)"
      ],
      "metadata": {
        "id": "jSJJE1mgQfoj"
      },
      "execution_count": 40,
      "outputs": []
    },
    {
      "cell_type": "code",
      "source": [
        "df['Playstyle'] = df['Playstyle'].apply(lambda x: ' '.join(word.strip(st.punctuation) for word in x.split()))\n",
        "df['earnings'] = df['earnings'].apply(lambda x: ' '.join(word.strip(st.punctuation) for word in x.split()))\n",
        "df['whyplay'] = df['whyplay'].apply(lambda x: ' '.join(word.strip(st.punctuation) for word in x.split()))"
      ],
      "metadata": {
        "id": "QwPU49FKQkyP"
      },
      "execution_count": 41,
      "outputs": []
    },
    {
      "cell_type": "code",
      "source": [
        "df['Playstyle'] = df['Playstyle'].str.lower().str.strip()\n",
        "df['whyplay'] = df['whyplay'].str.lower().str.strip()\n",
        "df['earnings'] = df['earnings'].str.lower().str.strip()"
      ],
      "metadata": {
        "id": "Jw09kisqRpGI"
      },
      "execution_count": 42,
      "outputs": []
    },
    {
      "cell_type": "code",
      "source": [
        "df['Playstyle'].nunique()"
      ],
      "metadata": {
        "colab": {
          "base_uri": "https://localhost:8080/"
        },
        "id": "LlngmN6SRvF3",
        "outputId": "3ae15ab1-c858-4953-9595-7555787a8177"
      },
      "execution_count": 43,
      "outputs": [
        {
          "output_type": "execute_result",
          "data": {
            "text/plain": [
              "278"
            ]
          },
          "metadata": {},
          "execution_count": 43
        }
      ]
    },
    {
      "cell_type": "code",
      "source": [
        "df.drop('highestleague' , axis = 1 , inplace = True)"
      ],
      "metadata": {
        "id": "MacMjSSpRwiO"
      },
      "execution_count": 44,
      "outputs": []
    },
    {
      "cell_type": "code",
      "source": [
        "df.Work.fillna(df.Work.mode()[0] , inplace=True)"
      ],
      "metadata": {
        "id": "TCgjoS_DRyP1"
      },
      "execution_count": 45,
      "outputs": []
    },
    {
      "cell_type": "code",
      "source": [
        "df.drop(['Residence' , 'accept'] , axis = 1 , inplace = True)"
      ],
      "metadata": {
        "id": "bVu7zznmR1GW"
      },
      "execution_count": 46,
      "outputs": []
    },
    {
      "cell_type": "code",
      "source": [
        "df.earnings.replace(df.earnings.value_counts().index[3:] , 'Other',inplace=True)\n",
        "df['earnings'].value_counts()"
      ],
      "metadata": {
        "colab": {
          "base_uri": "https://localhost:8080/"
        },
        "id": "xnVjIj97R3Rh",
        "outputId": "1b89c868-5c87-4f66-bdf3-8889003d1878"
      },
      "execution_count": 47,
      "outputs": [
        {
          "output_type": "execute_result",
          "data": {
            "text/plain": [
              "i play for fun                                                                           11708\n",
              "i play mostly for fun but earn a little on the side tournament winnings streaming etc      957\n",
              "Other                                                                                      294\n",
              "i earn a living by playing this game                                                        39\n",
              "Name: earnings, dtype: int64"
            ]
          },
          "metadata": {},
          "execution_count": 47
        }
      ]
    },
    {
      "cell_type": "code",
      "source": [
        "df.whyplay.replace(df.whyplay.value_counts().index[5:] , 'Other',inplace=True)\n",
        "df['whyplay'].value_counts()"
      ],
      "metadata": {
        "colab": {
          "base_uri": "https://localhost:8080/"
        },
        "id": "o8n6LyZdR7Zv",
        "outputId": "9016f7fa-5860-48b9-9d14-62e2f5286d6d"
      },
      "execution_count": 48,
      "outputs": [
        {
          "output_type": "execute_result",
          "data": {
            "text/plain": [
              "having fun          5138\n",
              "improving           4728\n",
              "winning             2018\n",
              "relaxing             630\n",
              "Other                428\n",
              "all of the above      56\n",
              "Name: whyplay, dtype: int64"
            ]
          },
          "metadata": {},
          "execution_count": 48
        }
      ]
    },
    {
      "cell_type": "code",
      "source": [
        "df.Playstyle.replace(df.Playstyle.value_counts().index[5:] , 'Other',inplace=True)\n",
        "df['Playstyle'].value_counts()"
      ],
      "metadata": {
        "colab": {
          "base_uri": "https://localhost:8080/"
        },
        "id": "LwJDk2N7SDNh",
        "outputId": "fc55c1ba-d6ed-49ab-c144-893337311f1b"
      },
      "execution_count": 49,
      "outputs": [
        {
          "output_type": "execute_result",
          "data": {
            "text/plain": [
              "multiplayer  online  with real life friends                    5428\n",
              "multiplayer  online  with strangers                            3969\n",
              "multiplayer  online  with online acquaintances or teammates    2545\n",
              "singleplayer                                                    720\n",
              "Other                                                           292\n",
              "multiplayer  offline people in the same room                     44\n",
              "Name: Playstyle, dtype: int64"
            ]
          },
          "metadata": {},
          "execution_count": 49
        }
      ]
    },
    {
      "cell_type": "code",
      "source": [
        "df.Playstyle.replace('Other' , np.nan , inplace=True)\n",
        "df.whyplay.replace('Other' , np.nan , inplace=True)\n",
        "df.earnings.replace('Other' , np.nan , inplace=True)"
      ],
      "metadata": {
        "id": "j-YyjostSLrV"
      },
      "execution_count": 50,
      "outputs": []
    },
    {
      "cell_type": "code",
      "source": [
        "df.dropna(inplace=True)"
      ],
      "metadata": {
        "id": "O-1d3pU6SM6C"
      },
      "execution_count": 51,
      "outputs": []
    },
    {
      "cell_type": "code",
      "source": [
        "df.isnull().sum()"
      ],
      "metadata": {
        "id": "U3J13C4KSPGW",
        "colab": {
          "base_uri": "https://localhost:8080/"
        },
        "outputId": "64f241e9-361b-4c33-8c07-f996168c3334"
      },
      "execution_count": 52,
      "outputs": [
        {
          "output_type": "execute_result",
          "data": {
            "text/plain": [
              "GAD1              0\n",
              "GAD2              0\n",
              "GAD3              0\n",
              "GAD4              0\n",
              "GAD5              0\n",
              "GAD6              0\n",
              "GAD7              0\n",
              "GADE              0\n",
              "SWL1              0\n",
              "SWL2              0\n",
              "SWL3              0\n",
              "SWL4              0\n",
              "SWL5              0\n",
              "Game              0\n",
              "Platform          0\n",
              "Hours             0\n",
              "earnings          0\n",
              "whyplay           0\n",
              "League            0\n",
              "streams           0\n",
              "SPIN1             0\n",
              "SPIN2             0\n",
              "SPIN3             0\n",
              "SPIN4             0\n",
              "SPIN5             0\n",
              "SPIN6             0\n",
              "SPIN7             0\n",
              "SPIN8             0\n",
              "SPIN9             0\n",
              "SPIN10            0\n",
              "SPIN11            0\n",
              "SPIN12            0\n",
              "SPIN13            0\n",
              "SPIN14            0\n",
              "SPIN15            0\n",
              "SPIN16            0\n",
              "SPIN17            0\n",
              "Narcissism        0\n",
              "Gender            0\n",
              "Age               0\n",
              "Work              0\n",
              "Degree            0\n",
              "Reference         0\n",
              "Playstyle         0\n",
              "GAD_T             0\n",
              "SWL_T             0\n",
              "SPIN_T            0\n",
              "Residence_ISO3    0\n",
              "dtype: int64"
            ]
          },
          "metadata": {},
          "execution_count": 52
        }
      ]
    },
    {
      "cell_type": "code",
      "source": [
        "df.shape"
      ],
      "metadata": {
        "colab": {
          "base_uri": "https://localhost:8080/"
        },
        "id": "A9Y1dXGReWOC",
        "outputId": "6bfa6779-4937-4b54-da0b-7d889b672714"
      },
      "execution_count": 53,
      "outputs": [
        {
          "output_type": "execute_result",
          "data": {
            "text/plain": [
              "(12081, 48)"
            ]
          },
          "metadata": {},
          "execution_count": 53
        }
      ]
    },
    {
      "cell_type": "code",
      "source": [
        "df.to_csv('gamestudy.csv')  "
      ],
      "metadata": {
        "id": "qmjD9zm8eYFa"
      },
      "execution_count": 59,
      "outputs": []
    },
    {
      "cell_type": "code",
      "source": [],
      "metadata": {
        "id": "PxzRAUEAehCS"
      },
      "execution_count": null,
      "outputs": []
    }
  ]
}